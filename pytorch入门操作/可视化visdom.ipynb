{
 "cells": [
  {
   "cell_type": "code",
   "execution_count": 5,
   "metadata": {},
   "outputs": [],
   "source": [
    "import numpy as np\n",
    "import torch\n",
    "import torch.nn.functional as F"
   ]
  },
  {
   "cell_type": "code",
   "execution_count": 11,
   "metadata": {},
   "outputs": [
    {
     "data": {
      "text/plain": [
       "array([2, 3, 4])"
      ]
     },
     "execution_count": 11,
     "metadata": {},
     "output_type": "execute_result"
    }
   ],
   "source": [
    "np.array([[1,2,3],[2,3,4]]).max(0)"
   ]
  },
  {
   "cell_type": "code",
   "execution_count": 6,
   "metadata": {},
   "outputs": [
    {
     "data": {
      "text/plain": [
       "(tensor([4, 8]), tensor([3, 3]))"
      ]
     },
     "execution_count": 6,
     "metadata": {},
     "output_type": "execute_result"
    }
   ],
   "source": [
    "torch.tensor([[1,2,3,4],[5,6,7,8]]).max(1) #第一个参数是value,第二个是index"
   ]
  },
  {
   "cell_type": "code",
   "execution_count": 7,
   "metadata": {},
   "outputs": [
    {
     "data": {
      "text/plain": [
       "torch.Size([4, 10])"
      ]
     },
     "execution_count": 7,
     "metadata": {},
     "output_type": "execute_result"
    }
   ],
   "source": [
    "logits = torch.rand(4,10)\n",
    "pred = F.softmax(logits,dim=1) #遍历10列\n",
    "pred.shape"
   ]
  },
  {
   "cell_type": "code",
   "execution_count": 8,
   "metadata": {},
   "outputs": [
    {
     "data": {
      "text/plain": [
       "tensor([[0.1294, 0.1093, 0.0838, 0.1191, 0.1242, 0.0862, 0.0510, 0.1318, 0.0999,\n",
       "         0.0654],\n",
       "        [0.0584, 0.1214, 0.0678, 0.1074, 0.1504, 0.0891, 0.1115, 0.0621, 0.1416,\n",
       "         0.0903],\n",
       "        [0.0972, 0.1427, 0.0639, 0.1086, 0.0730, 0.0643, 0.0732, 0.1040, 0.1500,\n",
       "         0.1231],\n",
       "        [0.0620, 0.0739, 0.1487, 0.0677, 0.1005, 0.1242, 0.1064, 0.1351, 0.1219,\n",
       "         0.0596]])"
      ]
     },
     "execution_count": 8,
     "metadata": {},
     "output_type": "execute_result"
    }
   ],
   "source": [
    "pred"
   ]
  },
  {
   "cell_type": "code",
   "execution_count": 9,
   "metadata": {},
   "outputs": [
    {
     "data": {
      "text/plain": [
       "tensor([7, 4, 8, 2])"
      ]
     },
     "execution_count": 9,
     "metadata": {},
     "output_type": "execute_result"
    }
   ],
   "source": [
    "pred_label = pred.argmax(dim=1) #遍历10列的最大值\n",
    "pred_label"
   ]
  },
  {
   "cell_type": "code",
   "execution_count": 12,
   "metadata": {},
   "outputs": [],
   "source": [
    "label = torch.tensor([7,4,3,2])\n",
    "correct = torch.eq(pred_label,label)"
   ]
  },
  {
   "cell_type": "code",
   "execution_count": 15,
   "metadata": {},
   "outputs": [
    {
     "data": {
      "text/plain": [
       "tensor([1, 1, 0, 1], dtype=torch.uint8)"
      ]
     },
     "execution_count": 15,
     "metadata": {},
     "output_type": "execute_result"
    }
   ],
   "source": [
    "correct"
   ]
  },
  {
   "cell_type": "code",
   "execution_count": 17,
   "metadata": {},
   "outputs": [
    {
     "data": {
      "text/plain": [
       "0.75"
      ]
     },
     "execution_count": 17,
     "metadata": {},
     "output_type": "execute_result"
    }
   ],
   "source": [
    "correct.sum().float().item()/4"
   ]
  },
  {
   "cell_type": "code",
   "execution_count": 21,
   "metadata": {},
   "outputs": [
    {
     "name": "stdout",
     "output_type": "stream",
     "text": [
      "Train Epoch: 0 [0/60000 (0%)]\tLoss: 2.301537\n",
      "Train Epoch: 0 [20000/60000 (33%)]\tLoss: 2.271392\n",
      "Train Epoch: 0 [40000/60000 (67%)]\tLoss: 2.223447\n",
      "\n",
      "Test set: Average loss: 0.0109, Accuracy: 5504.0/10000 (55%)\n",
      "\n",
      "Train Epoch: 1 [0/60000 (0%)]\tLoss: 2.189170\n",
      "Train Epoch: 1 [20000/60000 (33%)]\tLoss: 2.096236\n",
      "Train Epoch: 1 [40000/60000 (67%)]\tLoss: 1.966659\n",
      "\n",
      "Test set: Average loss: 0.0089, Accuracy: 5629.0/10000 (56%)\n",
      "\n",
      "Train Epoch: 2 [0/60000 (0%)]\tLoss: 1.793783\n",
      "Train Epoch: 2 [20000/60000 (33%)]\tLoss: 1.673108\n",
      "Train Epoch: 2 [40000/60000 (67%)]\tLoss: 1.528649\n",
      "\n",
      "Test set: Average loss: 0.0066, Accuracy: 6210.0/10000 (62%)\n",
      "\n",
      "Train Epoch: 3 [0/60000 (0%)]\tLoss: 1.353001\n",
      "Train Epoch: 3 [20000/60000 (33%)]\tLoss: 1.244355\n",
      "Train Epoch: 3 [40000/60000 (67%)]\tLoss: 1.155593\n",
      "\n",
      "Test set: Average loss: 0.0050, Accuracy: 7333.0/10000 (73%)\n",
      "\n",
      "Train Epoch: 4 [0/60000 (0%)]\tLoss: 0.973035\n",
      "Train Epoch: 4 [20000/60000 (33%)]\tLoss: 0.898465\n",
      "Train Epoch: 4 [40000/60000 (67%)]\tLoss: 0.940837\n",
      "\n",
      "Test set: Average loss: 0.0040, Accuracy: 7741.0/10000 (77%)\n",
      "\n",
      "Train Epoch: 5 [0/60000 (0%)]\tLoss: 0.789451\n",
      "Train Epoch: 5 [20000/60000 (33%)]\tLoss: 0.771455\n",
      "Train Epoch: 5 [40000/60000 (67%)]\tLoss: 0.762168\n",
      "\n",
      "Test set: Average loss: 0.0035, Accuracy: 7947.0/10000 (79%)\n",
      "\n",
      "Train Epoch: 6 [0/60000 (0%)]\tLoss: 0.743136\n",
      "Train Epoch: 6 [20000/60000 (33%)]\tLoss: 0.538499\n",
      "Train Epoch: 6 [40000/60000 (67%)]\tLoss: 0.482802\n",
      "\n",
      "Test set: Average loss: 0.0021, Accuracy: 8904.0/10000 (89%)\n",
      "\n",
      "Train Epoch: 7 [0/60000 (0%)]\tLoss: 0.405261\n",
      "Train Epoch: 7 [20000/60000 (33%)]\tLoss: 0.392497\n",
      "Train Epoch: 7 [40000/60000 (67%)]\tLoss: 0.381575\n",
      "\n",
      "Test set: Average loss: 0.0019, Accuracy: 8980.0/10000 (90%)\n",
      "\n",
      "Train Epoch: 8 [0/60000 (0%)]\tLoss: 0.420336\n",
      "Train Epoch: 8 [20000/60000 (33%)]\tLoss: 0.435516\n",
      "Train Epoch: 8 [40000/60000 (67%)]\tLoss: 0.406004\n",
      "\n",
      "Test set: Average loss: 0.0017, Accuracy: 9030.0/10000 (90%)\n",
      "\n",
      "Train Epoch: 9 [0/60000 (0%)]\tLoss: 0.334336\n",
      "Train Epoch: 9 [20000/60000 (33%)]\tLoss: 0.374376\n",
      "Train Epoch: 9 [40000/60000 (67%)]\tLoss: 0.433529\n",
      "\n",
      "Test set: Average loss: 0.0017, Accuracy: 9063.0/10000 (91%)\n",
      "\n"
     ]
    },
    {
     "name": "stderr",
     "output_type": "stream",
     "text": [
      "Connection is already closed.\n",
      "Connection is already closed.\n",
      "[Errno 99] Cannot assign requested address\n",
      "[Errno 99] Cannot assign requested address\n",
      "[Errno 99] Cannot assign requested address\n",
      "[Errno 99] Cannot assign requested address\n",
      "[Errno 99] Cannot assign requested address\n",
      "[Errno 99] Cannot assign requested address\n",
      "[Errno 99] Cannot assign requested address\n",
      "[Errno 99] Cannot assign requested address\n"
     ]
    }
   ],
   "source": [
    "import  torch\n",
    "import  torch.nn as nn\n",
    "import  torch.nn.functional as F\n",
    "import  torch.optim as optim\n",
    "from    torchvision import datasets, transforms\n",
    "\n",
    "from visdom import Visdom #这个工具需要开启 命令行python -m visdom.server，在浏览器中查看\n",
    "\n",
    "batch_size=200\n",
    "learning_rate=0.01\n",
    "epochs=10\n",
    "\n",
    "train_loader = torch.utils.data.DataLoader(\n",
    "    datasets.MNIST('./mnistdata', train=True, download=True,\n",
    "                   transform=transforms.Compose([\n",
    "                       transforms.ToTensor(),\n",
    "                       # transforms.Normalize((0.1307,), (0.3081,))\n",
    "                   ])),\n",
    "    batch_size=batch_size, shuffle=True)\n",
    "test_loader = torch.utils.data.DataLoader(\n",
    "    datasets.MNIST('./mnistdata', train=False, transform=transforms.Compose([\n",
    "        transforms.ToTensor(),\n",
    "        # transforms.Normalize((0.1307,), (0.3081,))\n",
    "    ])),\n",
    "    batch_size=batch_size, shuffle=True)\n",
    "\n",
    "\n",
    "\n",
    "class MLP(nn.Module):\n",
    "\n",
    "    def __init__(self):\n",
    "        super(MLP, self).__init__()\n",
    "\n",
    "        self.model = nn.Sequential(\n",
    "            nn.Linear(784, 200),\n",
    "            nn.LeakyReLU(inplace=True),\n",
    "            nn.Linear(200, 200),\n",
    "            nn.LeakyReLU(inplace=True),\n",
    "            nn.Linear(200, 10),\n",
    "            nn.LeakyReLU(inplace=True),\n",
    "        )\n",
    "\n",
    "    def forward(self, x):\n",
    "        x = self.model(x)\n",
    "\n",
    "        return x\n",
    "\n",
    "device = torch.device('cuda:0')\n",
    "net = MLP().to(device)\n",
    "optimizer = optim.SGD(net.parameters(), lr=learning_rate)\n",
    "criteon = nn.CrossEntropyLoss().to(device)\n",
    "\n",
    "viz = Visdom()\n",
    "\n",
    "viz.line([0.], [0.], win='train_loss', opts=dict(title='train loss'))\n",
    "viz.line([[0.0, 0.0]], [0.], win='test', opts=dict(title='test loss&acc.',\n",
    "                                                   legend=['loss', 'acc.']))\n",
    "global_step = 0\n",
    "\n",
    "for epoch in range(epochs):\n",
    "\n",
    "    for batch_idx, (data, target) in enumerate(train_loader):\n",
    "        data = data.view(-1, 28*28)\n",
    "        data, target = data.to(device), target.cuda()\n",
    "\n",
    "        logits = net(data)\n",
    "        loss = criteon(logits, target)\n",
    "\n",
    "        optimizer.zero_grad()\n",
    "        loss.backward()\n",
    "        # print(w1.grad.norm(), w2.grad.norm())\n",
    "        optimizer.step()\n",
    "\n",
    "        global_step += 1\n",
    "        viz.line([loss.item()], [global_step], win='train_loss', update='append')\n",
    "\n",
    "        if batch_idx % 100 == 0:\n",
    "            print('Train Epoch: {} [{}/{} ({:.0f}%)]\\tLoss: {:.6f}'.format(\n",
    "                epoch, batch_idx * len(data), len(train_loader.dataset),\n",
    "                       100. * batch_idx / len(train_loader), loss.item()))\n",
    "\n",
    "\n",
    "    test_loss = 0\n",
    "    correct = 0\n",
    "    for data, target in test_loader:\n",
    "        data = data.view(-1, 28 * 28)\n",
    "        data, target = data.to(device), target.cuda()\n",
    "        logits = net(data)\n",
    "        test_loss += criteon(logits, target).item()\n",
    "\n",
    "        pred = logits.argmax(dim=1)\n",
    "        correct += pred.eq(target).float().sum().item()\n",
    "\n",
    "    viz.line([[test_loss, correct / len(test_loader.dataset)]],\n",
    "             [global_step], win='test', update='append')\n",
    "    viz.images(data.view(-1, 1, 28, 28), win='x')\n",
    "    viz.text(str(pred.detach().cpu().numpy()), win='pred',\n",
    "             opts=dict(title='pred'))\n",
    "\n",
    "    test_loss /= len(test_loader.dataset)\n",
    "    print('\\nTest set: Average loss: {:.4f}, Accuracy: {}/{} ({:.0f}%)\\n'.format(\n",
    "        test_loss, correct, len(test_loader.dataset),\n",
    "        100. * correct / len(test_loader.dataset)))\n"
   ]
  },
  {
   "cell_type": "code",
   "execution_count": null,
   "metadata": {},
   "outputs": [],
   "source": []
  }
 ],
 "metadata": {
  "kernelspec": {
   "display_name": "Python 3",
   "language": "python",
   "name": "python3"
  },
  "language_info": {
   "codemirror_mode": {
    "name": "ipython",
    "version": 3
   },
   "file_extension": ".py",
   "mimetype": "text/x-python",
   "name": "python",
   "nbconvert_exporter": "python",
   "pygments_lexer": "ipython3",
   "version": "3.6.6"
  }
 },
 "nbformat": 4,
 "nbformat_minor": 2
}
