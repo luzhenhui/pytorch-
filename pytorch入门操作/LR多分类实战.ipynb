{
 "cells": [
  {
   "cell_type": "code",
   "execution_count": 1,
   "metadata": {},
   "outputs": [],
   "source": [
    "import  torch\n",
    "import  torch.nn as nn\n",
    "import  torch.nn.functional as F\n",
    "import  torch.optim as optim\n",
    "from    torchvision import datasets, transforms"
   ]
  },
  {
   "cell_type": "code",
   "execution_count": 4,
   "metadata": {},
   "outputs": [],
   "source": [
    "batch_size=200\n",
    "learning_rate=0.01\n",
    "epochs=10\n",
    "\n",
    "train_loader = torch.utils.data.DataLoader(\n",
    "    datasets.MNIST('./mnistdata', train=True, download=True,\n",
    "                   transform=transforms.Compose([\n",
    "                       transforms.ToTensor(),\n",
    "                       transforms.Normalize((0.1307,), (0.3081,))\n",
    "                   ])),\n",
    "    batch_size=batch_size, shuffle=True)\n",
    "test_loader = torch.utils.data.DataLoader(\n",
    "    datasets.MNIST('./mnistdata', train=False, transform=transforms.Compose([\n",
    "        transforms.ToTensor(),\n",
    "        transforms.Normalize((0.1307,), (0.3081,))\n",
    "    ])),\n",
    "    batch_size=batch_size, shuffle=True)"
   ]
  },
  {
   "cell_type": "code",
   "execution_count": 16,
   "metadata": {},
   "outputs": [
    {
     "data": {
      "text/plain": [
       "(Dataset MNIST\n",
       "     Number of datapoints: 60000\n",
       "     Split: train\n",
       "     Root Location: ./mnistdata\n",
       "     Transforms (if any): Compose(\n",
       "                              ToTensor()\n",
       "                              Normalize(mean=(0.1307,), std=(0.3081,))\n",
       "                          )\n",
       "     Target Transforms (if any): None, 60000)"
      ]
     },
     "execution_count": 16,
     "metadata": {},
     "output_type": "execute_result"
    }
   ],
   "source": [
    "train_loader.dataset,len(train_loader.dataset)"
   ]
  },
  {
   "cell_type": "code",
   "execution_count": 5,
   "metadata": {},
   "outputs": [],
   "source": [
    "w1, b1 = torch.randn(200, 784, requires_grad=True),\\\n",
    "         torch.zeros(1,200, requires_grad=True)\n",
    "w2, b2 = torch.randn(200, 200, requires_grad=True),\\\n",
    "         torch.zeros(1,200, requires_grad=True)\n",
    "w3, b3 = torch.randn(10, 200, requires_grad=True),\\\n",
    "         torch.zeros(1,10, requires_grad=True)"
   ]
  },
  {
   "cell_type": "code",
   "execution_count": 6,
   "metadata": {},
   "outputs": [
    {
     "data": {
      "text/plain": [
       "tensor([[ 3.0639e-01,  5.1388e-02,  2.5816e-02,  ...,  9.3717e-02,\n",
       "         -4.5858e-02, -1.3057e-01],\n",
       "        [-1.3789e-01,  7.8814e-02, -1.5594e-01,  ...,  7.7531e-02,\n",
       "          4.8861e-02,  8.2250e-02],\n",
       "        [ 1.2696e-03, -4.2819e-02, -6.7098e-02,  ...,  1.4160e-01,\n",
       "         -8.7542e-02, -9.6662e-02],\n",
       "        ...,\n",
       "        [-1.3552e-01,  1.1679e-01,  1.0412e-02,  ...,  9.5724e-02,\n",
       "          2.2451e-02, -3.1229e-02],\n",
       "        [-7.2284e-02, -1.9237e-02,  1.3583e-01,  ...,  3.4662e-03,\n",
       "         -1.0937e-02, -7.5768e-02],\n",
       "        [ 1.2680e-01, -9.1756e-02, -3.0125e-02,  ..., -2.8894e-04,\n",
       "         -1.3931e-02, -5.1417e-02]], requires_grad=True)"
      ]
     },
     "execution_count": 6,
     "metadata": {},
     "output_type": "execute_result"
    }
   ],
   "source": [
    "torch.nn.init.kaiming_normal_(w1)\n",
    "torch.nn.init.kaiming_normal_(w2)\n",
    "torch.nn.init.kaiming_normal_(w3)"
   ]
  },
  {
   "cell_type": "code",
   "execution_count": 9,
   "metadata": {},
   "outputs": [],
   "source": [
    "def forward(x):\n",
    "    x = x@w1.t() + b1\n",
    "    x = F.relu(x)\n",
    "    x = x@w2.t() + b2\n",
    "    x = F.relu(x)\n",
    "    x = x@w3.t() + b3\n",
    "    x = F.relu(x)\n",
    "    return x "
   ]
  },
  {
   "cell_type": "code",
   "execution_count": 10,
   "metadata": {},
   "outputs": [
    {
     "name": "stdout",
     "output_type": "stream",
     "text": [
      "Train Epoch: 0 [0/60000 (0%)]\tLoss: 2.775871\n",
      "Train Epoch: 0 [20000/60000 (33%)]\tLoss: 0.924767\n",
      "Train Epoch: 0 [40000/60000 (67%)]\tLoss: 0.546057\n",
      "\n",
      "Test set: Average loss: 0.0018, Accuracy: 8959/10000 (89%)\n",
      "\n",
      "Train Epoch: 1 [0/60000 (0%)]\tLoss: 0.405401\n",
      "Train Epoch: 1 [20000/60000 (33%)]\tLoss: 0.334161\n",
      "Train Epoch: 1 [40000/60000 (67%)]\tLoss: 0.209312\n",
      "\n",
      "Test set: Average loss: 0.0014, Accuracy: 9202/10000 (92%)\n",
      "\n",
      "Train Epoch: 2 [0/60000 (0%)]\tLoss: 0.296367\n",
      "Train Epoch: 2 [20000/60000 (33%)]\tLoss: 0.172390\n",
      "Train Epoch: 2 [40000/60000 (67%)]\tLoss: 0.301806\n",
      "\n",
      "Test set: Average loss: 0.0012, Accuracy: 9318/10000 (93%)\n",
      "\n",
      "Train Epoch: 3 [0/60000 (0%)]\tLoss: 0.275121\n",
      "Train Epoch: 3 [20000/60000 (33%)]\tLoss: 0.245940\n",
      "Train Epoch: 3 [40000/60000 (67%)]\tLoss: 0.226609\n",
      "\n",
      "Test set: Average loss: 0.0011, Accuracy: 9378/10000 (93%)\n",
      "\n",
      "Train Epoch: 4 [0/60000 (0%)]\tLoss: 0.200382\n",
      "Train Epoch: 4 [20000/60000 (33%)]\tLoss: 0.294513\n",
      "Train Epoch: 4 [40000/60000 (67%)]\tLoss: 0.249885\n",
      "\n",
      "Test set: Average loss: 0.0010, Accuracy: 9421/10000 (94%)\n",
      "\n",
      "Train Epoch: 5 [0/60000 (0%)]\tLoss: 0.138967\n",
      "Train Epoch: 5 [20000/60000 (33%)]\tLoss: 0.171096\n",
      "Train Epoch: 5 [40000/60000 (67%)]\tLoss: 0.163793\n",
      "\n",
      "Test set: Average loss: 0.0009, Accuracy: 9462/10000 (94%)\n",
      "\n",
      "Train Epoch: 6 [0/60000 (0%)]\tLoss: 0.106917\n",
      "Train Epoch: 6 [20000/60000 (33%)]\tLoss: 0.164991\n",
      "Train Epoch: 6 [40000/60000 (67%)]\tLoss: 0.228739\n",
      "\n",
      "Test set: Average loss: 0.0009, Accuracy: 9477/10000 (94%)\n",
      "\n",
      "Train Epoch: 7 [0/60000 (0%)]\tLoss: 0.191019\n",
      "Train Epoch: 7 [20000/60000 (33%)]\tLoss: 0.119285\n",
      "Train Epoch: 7 [40000/60000 (67%)]\tLoss: 0.112986\n",
      "\n",
      "Test set: Average loss: 0.0008, Accuracy: 9515/10000 (95%)\n",
      "\n",
      "Train Epoch: 8 [0/60000 (0%)]\tLoss: 0.125256\n",
      "Train Epoch: 8 [20000/60000 (33%)]\tLoss: 0.187001\n",
      "Train Epoch: 8 [40000/60000 (67%)]\tLoss: 0.176408\n",
      "\n",
      "Test set: Average loss: 0.0008, Accuracy: 9540/10000 (95%)\n",
      "\n",
      "Train Epoch: 9 [0/60000 (0%)]\tLoss: 0.160314\n",
      "Train Epoch: 9 [20000/60000 (33%)]\tLoss: 0.132228\n",
      "Train Epoch: 9 [40000/60000 (67%)]\tLoss: 0.133726\n",
      "\n",
      "Test set: Average loss: 0.0007, Accuracy: 9558/10000 (95%)\n",
      "\n"
     ]
    }
   ],
   "source": [
    "optimizer = optim.SGD([w1, b1, w2, b2, w3, b3], lr=learning_rate)\n",
    "criteon = nn.CrossEntropyLoss()\n",
    "\n",
    "for epoch in range(epochs):\n",
    "\n",
    "    for batch_idx, (data, target) in enumerate(train_loader):\n",
    "        data = data.view(-1, 28*28)\n",
    "\n",
    "        logits = forward(data)\n",
    "        loss = criteon(logits, target)\n",
    "\n",
    "        optimizer.zero_grad()\n",
    "        loss.backward()\n",
    "        # print(w1.grad.norm(), w2.grad.norm())\n",
    "        optimizer.step()\n",
    "\n",
    "        if batch_idx % 100 == 0:\n",
    "            print('Train Epoch: {} [{}/{} ({:.0f}%)]\\tLoss: {:.6f}'.format(\n",
    "                epoch, batch_idx * len(data), len(train_loader.dataset),\n",
    "                       100. * batch_idx / len(train_loader), loss.item()))\n",
    "\n",
    "\n",
    "    test_loss = 0\n",
    "    correct = 0\n",
    "    for data, target in test_loader:\n",
    "        data = data.view(-1, 28 * 28)\n",
    "        logits = forward(data)\n",
    "        test_loss += criteon(logits, target).item()\n",
    "\n",
    "        pred = logits.data.max(1)[1]\n",
    "        correct += pred.eq(target.data).sum() #计算和\n",
    "\n",
    "    test_loss /= len(test_loader.dataset)\n",
    "    print('\\nTest set: Average loss: {:.4f}, Accuracy: {}/{} ({:.0f}%)\\n'.format(\n",
    "        test_loss, correct, len(test_loader.dataset),\n",
    "        100. * correct / len(test_loader.dataset)))\n"
   ]
  },
  {
   "cell_type": "code",
   "execution_count": null,
   "metadata": {},
   "outputs": [],
   "source": []
  },
  {
   "cell_type": "code",
   "execution_count": null,
   "metadata": {},
   "outputs": [],
   "source": []
  }
 ],
 "metadata": {
  "kernelspec": {
   "display_name": "Python 3",
   "language": "python",
   "name": "python3"
  },
  "language_info": {
   "codemirror_mode": {
    "name": "ipython",
    "version": 3
   },
   "file_extension": ".py",
   "mimetype": "text/x-python",
   "name": "python",
   "nbconvert_exporter": "python",
   "pygments_lexer": "ipython3",
   "version": "3.6.6"
  }
 },
 "nbformat": 4,
 "nbformat_minor": 2
}
