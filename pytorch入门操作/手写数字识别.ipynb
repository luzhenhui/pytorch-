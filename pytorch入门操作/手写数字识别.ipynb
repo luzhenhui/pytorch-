{
 "cells": [
  {
   "cell_type": "code",
   "execution_count": 1,
   "metadata": {},
   "outputs": [],
   "source": [
    "import numpy as np\n",
    "import torch\n",
    "from torchvision.datasets import mnist\n",
    "import torchvision.transforms as transforms\n",
    "from torch.utils.data import DataLoader\n",
    "\n",
    "import torch.nn.functional as F\n",
    "import torch.optim as optim\n",
    "from torch import nn\n",
    "from tensorboardX import SummaryWriter"
   ]
  },
  {
   "cell_type": "code",
   "execution_count": 2,
   "metadata": {},
   "outputs": [],
   "source": [
    "# 定义一些超参数\n",
    "train_batch_size = 64\n",
    "test_batch_size = 128\n",
    "learning_rate = 0.01\n",
    "num_epoches = 20"
   ]
  },
  {
   "cell_type": "code",
   "execution_count": 3,
   "metadata": {},
   "outputs": [],
   "source": [
    "transform = transforms.Compose([transforms.ToTensor(),transforms.Normalize([0.5], [0.5])])"
   ]
  },
  {
   "cell_type": "code",
   "execution_count": 4,
   "metadata": {},
   "outputs": [],
   "source": [
    "#定义预处理函数\n",
    "transform = transforms.Compose([transforms.ToTensor(),transforms.Normalize([0.5], [0.5])])\n",
    "#下载数据，并对数据进行预处理\n",
    "train_dataset = mnist.MNIST('./mnistdata', train=True, transform=transform, download=True)\n",
    "test_dataset = mnist.MNIST('./mnistdata', train=False, transform=transform)\n",
    "#得到一个生成器\n",
    "train_loader = DataLoader(train_dataset, batch_size=train_batch_size, shuffle=True)#shuffle,以便在每个epoch重新洗牌数据(\n",
    "test_loader = DataLoader(test_dataset, batch_size=test_batch_size, shuffle=False)"
   ]
  },
  {
   "cell_type": "code",
   "execution_count": 5,
   "metadata": {},
   "outputs": [],
   "source": [
    "examples = enumerate(test_loader)\n",
    "batch_idx, (example_data, example_targets) = next(examples)"
   ]
  },
  {
   "cell_type": "code",
   "execution_count": 6,
   "metadata": {},
   "outputs": [
    {
     "data": {
      "text/plain": [
       "(torch.Size([128, 1, 28, 28]), torch.Size([128]))"
      ]
     },
     "execution_count": 6,
     "metadata": {},
     "output_type": "execute_result"
    }
   ],
   "source": [
    "example_data.shape,example_targets.shape"
   ]
  },
  {
   "cell_type": "code",
   "execution_count": 7,
   "metadata": {},
   "outputs": [
    {
     "data": {
      "text/plain": [
       "torch.Size([128, 784])"
      ]
     },
     "execution_count": 7,
     "metadata": {},
     "output_type": "execute_result"
    },
    {
     "data": {
      "image/png": "[encoded data removed]",
      "text/plain": [
       "<Figure size 432x288 with 6 Axes>"
      ]
     },
     "metadata": {},
     "output_type": "display_data"
    }
   ],
   "source": [
    "import matplotlib.pyplot as plt\n",
    "%matplotlib inline\n",
    "\n",
    "examples = enumerate(test_loader)\n",
    "batch_idx, (example_data, example_targets) = next(examples)\n",
    "\n",
    "fig = plt.figure()\n",
    "for i in range(6):\n",
    "    plt.subplot(2,3,i+1)\n",
    "    plt.tight_layout()\n",
    "    plt.imshow(example_data[i][0], cmap='gray', interpolation='none') #interplotation：默认\"None\"，可用字符串类型命令设定\n",
    "    #- cmap：默认\"None\"，可设为 “colormap\"\n",
    "    #如果是“None”，默认rc值符合 image.cmap 。如果X是3-D，则cmap会被忽略，而采用 具体的RGB(A)值。\n",
    "    plt.title(\"Ground Truth: {}\".format(example_targets[i]))\n",
    "    plt.xticks([])\n",
    "    plt.yticks([])\n",
    "example_data = example_data.view(example_data.size(0), -1)\n",
    "example_data.shape"
   ]
  },
  {
   "cell_type": "code",
   "execution_count": 8,
   "metadata": {},
   "outputs": [],
   "source": [
    "class Net(nn.Module):\n",
    "    \"\"\"\n",
    "    使用sequential构建网络，Sequential()函数的功能是将网络的层组合到一起\n",
    "    \"\"\"\n",
    "    def __init__(self, in_dim, n_hidden_1, n_hidden_2, out_dim):\n",
    "        super(Net, self).__init__()\n",
    "        self.layer1 = nn.Sequential(nn.Linear(in_dim, n_hidden_1),nn.BatchNorm1d(n_hidden_1))\n",
    "        self.layer2 = nn.Sequential(nn.Linear(n_hidden_1, n_hidden_2),nn.BatchNorm1d(n_hidden_2))\n",
    "        self.layer3 = nn.Sequential(nn.Linear(n_hidden_2, out_dim))\n",
    "        \n",
    " \n",
    "    def forward(self, x):\n",
    "        x = F.relu(self.layer1(x))\n",
    "        x = F.relu(self.layer2(x))\n",
    "        x = self.layer3(x)\n",
    "        return x"
   ]
  },
  {
   "cell_type": "code",
   "execution_count": 9,
   "metadata": {},
   "outputs": [],
   "source": [
    "lr = 0.01\n",
    "momentum = 0.9"
   ]
  },
  {
   "cell_type": "code",
   "execution_count": 10,
   "metadata": {},
   "outputs": [
    {
     "data": {
      "text/plain": [
       "True"
      ]
     },
     "execution_count": 10,
     "metadata": {},
     "output_type": "execute_result"
    }
   ],
   "source": [
    "torch.cuda.is_available()"
   ]
  },
  {
   "cell_type": "code",
   "execution_count": 11,
   "metadata": {},
   "outputs": [],
   "source": [
    "#实例化模型\n",
    "device = torch.device(\"cuda\" if torch.cuda.is_available() else \"cpu\")\n",
    "#if torch.cuda.device_count() > 1:\n",
    "#    print(\"Let's use\", torch.cuda.device_count(), \"GPUs\")\n",
    "#    # dim = 0 [20, xxx] -> [10, ...], [10, ...] on 2GPUs\n",
    "#    model = nn.DataParallel(model)\n",
    "model = Net(28 * 28, 300, 100, 10)\n",
    "model.to(device)\n",
    "\n",
    "# 定义损失函数和优化器\n",
    "criterion = nn.CrossEntropyLoss()\n",
    "optimizer = optim.SGD(model.parameters(), lr=lr, momentum=momentum)"
   ]
  },
  {
   "cell_type": "code",
   "execution_count": 14,
   "metadata": {},
   "outputs": [
    {
     "name": "stdout",
     "output_type": "stream",
     "text": [
      "0.008100000000000001\n",
      "<built-in method max of Tensor object at 0x7eff9d8383a8>\n",
      "epoch: 0, Train Loss: 0.2880, Train Acc: 0.9235, Test Loss: 0.1109, Test Acc: 0.9677\n",
      "<built-in method max of Tensor object at 0x7eff9d8383a8>\n",
      "epoch: 1, Train Loss: 0.0974, Train Acc: 0.9707, Test Loss: 0.0813, Test Acc: 0.9769\n",
      "<built-in method max of Tensor object at 0x7eff9d838d38>\n",
      "epoch: 2, Train Loss: 0.0683, Train Acc: 0.9796, Test Loss: 0.0695, Test Acc: 0.9793\n",
      "<built-in method max of Tensor object at 0x7eff9d838240>\n",
      "epoch: 3, Train Loss: 0.0507, Train Acc: 0.9844, Test Loss: 0.0659, Test Acc: 0.9793\n",
      "<built-in method max of Tensor object at 0x7eff9d838fc0>\n",
      "epoch: 4, Train Loss: 0.0402, Train Acc: 0.9875, Test Loss: 0.0635, Test Acc: 0.9804\n",
      "0.007290000000000001\n",
      "<built-in method max of Tensor object at 0x7eff9d8383a8>\n",
      "epoch: 5, Train Loss: 0.0299, Train Acc: 0.9911, Test Loss: 0.0602, Test Acc: 0.9818\n",
      "<built-in method max of Tensor object at 0x7eff9d838ab0>\n",
      "epoch: 6, Train Loss: 0.0240, Train Acc: 0.9929, Test Loss: 0.0613, Test Acc: 0.9819\n",
      "<built-in method max of Tensor object at 0x7eff9d838b88>\n",
      "epoch: 7, Train Loss: 0.0200, Train Acc: 0.9945, Test Loss: 0.0570, Test Acc: 0.9817\n",
      "<built-in method max of Tensor object at 0x7eff9d8389d8>\n",
      "epoch: 8, Train Loss: 0.0182, Train Acc: 0.9947, Test Loss: 0.0582, Test Acc: 0.9823\n",
      "<built-in method max of Tensor object at 0x7eff9d8383a8>\n",
      "epoch: 9, Train Loss: 0.0147, Train Acc: 0.9960, Test Loss: 0.0588, Test Acc: 0.9830\n",
      "0.006561000000000002\n",
      "<built-in method max of Tensor object at 0x7eff9d838ab0>\n",
      "epoch: 10, Train Loss: 0.0114, Train Acc: 0.9970, Test Loss: 0.0599, Test Acc: 0.9815\n",
      "<built-in method max of Tensor object at 0x7eff9d8383f0>\n",
      "epoch: 11, Train Loss: 0.0098, Train Acc: 0.9977, Test Loss: 0.0573, Test Acc: 0.9833\n",
      "<built-in method max of Tensor object at 0x7eff9d838ea0>\n",
      "epoch: 12, Train Loss: 0.0089, Train Acc: 0.9976, Test Loss: 0.0566, Test Acc: 0.9823\n",
      "<built-in method max of Tensor object at 0x7eff9d838948>\n",
      "epoch: 13, Train Loss: 0.0079, Train Acc: 0.9979, Test Loss: 0.0551, Test Acc: 0.9839\n",
      "<built-in method max of Tensor object at 0x7eff9d838ab0>\n",
      "epoch: 14, Train Loss: 0.0072, Train Acc: 0.9982, Test Loss: 0.0636, Test Acc: 0.9824\n",
      "0.005904900000000002\n",
      "<built-in method max of Tensor object at 0x7eff9d8383f0>\n",
      "epoch: 15, Train Loss: 0.0059, Train Acc: 0.9986, Test Loss: 0.0595, Test Acc: 0.9836\n",
      "<built-in method max of Tensor object at 0x7eff9d838240>\n",
      "epoch: 16, Train Loss: 0.0050, Train Acc: 0.9989, Test Loss: 0.0610, Test Acc: 0.9828\n",
      "<built-in method max of Tensor object at 0x7eff9d838ca8>\n",
      "epoch: 17, Train Loss: 0.0047, Train Acc: 0.9991, Test Loss: 0.0560, Test Acc: 0.9856\n",
      "<built-in method max of Tensor object at 0x7eff9d838b88>\n",
      "epoch: 18, Train Loss: 0.0039, Train Acc: 0.9992, Test Loss: 0.0580, Test Acc: 0.9844\n",
      "<built-in method max of Tensor object at 0x7eff9d838e58>\n",
      "epoch: 19, Train Loss: 0.0042, Train Acc: 0.9991, Test Loss: 0.0605, Test Acc: 0.9840\n"
     ]
    }
   ],
   "source": [
    "# 开始训练\n",
    "losses = []\n",
    "acces = []\n",
    "eval_losses = []\n",
    "eval_acces = []\n",
    "writer = SummaryWriter(log_dir='logs',comment='train-loss')\n",
    "\n",
    "for epoch in range(num_epoches):\n",
    "    train_loss = 0\n",
    "    train_acc = 0\n",
    "    model.train()\n",
    "    #动态修改参数学习率\n",
    "    if epoch%5==0:\n",
    "        optimizer.param_groups[0]['lr']*=0.9\n",
    "        print(optimizer.param_groups[0]['lr'])\n",
    "    for img, label in train_loader:\n",
    "        img=img.to(device)\n",
    "        label = label.to(device)\n",
    "        img = img.view(img.size(0), -1)\n",
    "        # 前向传播\n",
    "        out = model(img)\n",
    "        loss = criterion(out, label)\n",
    "        # 反向传播\n",
    "        optimizer.zero_grad()\n",
    "        loss.backward()\n",
    "        optimizer.step()\n",
    "        # 记录误差\n",
    "        train_loss += loss.item()\n",
    "        # 保存loss的数据与epoch数值\n",
    "        writer.add_scalar('Train', train_loss/len(train_loader), epoch)\n",
    "        # 计算分类的准确率\n",
    "        _, pred = out.max(1)\n",
    "        num_correct = (pred == label).sum().item()\n",
    "        acc = num_correct / img.shape[0]\n",
    "        train_acc += acc\n",
    "        \n",
    "    losses.append(train_loss / len(train_loader))\n",
    "    acces.append(train_acc / len(train_loader))\n",
    "    # 在测试集上检验效果\n",
    "    eval_loss = 0\n",
    "    eval_acc = 0\n",
    "    #net.eval() # 将模型改为预测模式\n",
    "    model.eval()\n",
    "    for img, label in test_loader:\n",
    "        img=img.to(device)\n",
    "        label = label.to(device)\n",
    "        img = img.view(img.size(0), -1)\n",
    "        out = model(img)\n",
    "        loss = criterion(out, label)\n",
    "        # 记录误差\n",
    "        eval_loss += loss.item()\n",
    "        # 记录准确率\n",
    "        _, pred = out.max(1)\n",
    "        num_correct = (pred == label).sum().item()\n",
    "        acc = num_correct / img.shape[0]\n",
    "        eval_acc += acc\n",
    "        \n",
    "    eval_losses.append(eval_loss / len(test_loader))\n",
    "    eval_acces.append(eval_acc / len(test_loader))\n",
    "    print('epoch: {}, Train Loss: {:.4f}, Train Acc: {:.4f}, Test Loss: {:.4f}, Test Acc: {:.4f}'\n",
    "          .format(epoch, train_loss / len(train_loader), train_acc / len(train_loader), \n",
    "                     eval_loss / len(test_loader), eval_acc / len(test_loader)))"
   ]
  },
  {
   "cell_type": "code",
   "execution_count": 15,
   "metadata": {},
   "outputs": [
    {
     "data": {
      "text/plain": [
       "<matplotlib.legend.Legend at 0x7eff965a2cc0>"
      ]
     },
     "execution_count": 15,
     "metadata": {},
     "output_type": "execute_result"
    },
    {
     "data": {
      "image/png": "[encoded data removed]",
      "text/plain": [
       "<Figure size 432x288 with 1 Axes>"
      ]
     },
     "metadata": {
      "needs_background": "light"
     },
     "output_type": "display_data"
    }
   ],
   "source": [
    "plt.title('train loss')\n",
    "plt.plot(np.arange(len(losses)), losses)\n",
    "#plt.plot(np.arange(len(eval_losses)), eval_losses)\n",
    "#plt.legend(['Train Loss', 'Test Loss'], loc='upper right')\n",
    "plt.legend(['Train Loss'], loc='upper right')"
   ]
  },
  {
   "cell_type": "code",
   "execution_count": null,
   "metadata": {},
   "outputs": [],
   "source": []
  }
 ],
 "metadata": {
  "kernelspec": {
   "display_name": "Python 3",
   "language": "python",
   "name": "python3"
  },
  "language_info": {
   "codemirror_mode": {
    "name": "ipython",
    "version": 3
   },
   "file_extension": ".py",
   "mimetype": "text/x-python",
   "name": "python",
   "nbconvert_exporter": "python",
   "pygments_lexer": "ipython3",
   "version": "3.6.6"
  }
 },
 "nbformat": 4,
 "nbformat_minor": 2
}
